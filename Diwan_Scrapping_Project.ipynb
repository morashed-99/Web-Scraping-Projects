{
 "cells": [
  {
   "cell_type": "code",
   "execution_count": 78,
   "metadata": {},
   "outputs": [],
   "source": [
    "# import the nessecary modules\n",
    "import requests\n",
    "import csv\n",
    "import pandas as pd\n",
    "from bs4 import BeautifulSoup\n",
    "import time"
   ]
  },
  {
   "cell_type": "markdown",
   "metadata": {},
   "source": [
    "#### Go To https://diwanegypt.com/  and Start scrapping English books"
   ]
  },
  {
   "cell_type": "code",
   "execution_count": 31,
   "metadata": {},
   "outputs": [],
   "source": [
    "# get thee url and parse its content\n",
    "link = 'https://diwanegypt.com/product-category/books/arabic-books/'\n",
    "respond = requests.get(link)\n",
    "soup = BeautifulSoup(respond.content,'html.parser')"
   ]
  },
  {
   "cell_type": "code",
   "execution_count": 43,
   "metadata": {},
   "outputs": [
    {
     "data": {
      "text/plain": [
       "'189'"
      ]
     },
     "execution_count": 43,
     "metadata": {},
     "output_type": "execute_result"
    }
   ],
   "source": [
    "# get the total number of arabic books pages\n",
    "number_of_arabic_books_pages = soup.find('ul',attrs={'class':'page-numbers'}).find_all('li')[7].get_text()\n",
    "number_of_arabic_books_pages"
   ]
  },
  {
   "cell_type": "code",
   "execution_count": 49,
   "metadata": {
    "scrolled": true
   },
   "outputs": [
    {
     "data": {
      "text/plain": [
       "<a class=\"woocommerce-LoopProduct-link woocommerce-loop-product__link\" href=\"https://diwanegypt.com/product/%d8%a3%d9%85-%d8%a3%d8%a8%d9%8a%d9%87%d8%a7-%d8%b3%d8%b1%d8%af-%d8%b1%d9%88%d8%a7%d8%a6%d9%8a-%d9%84%d8%b3%d9%8a%d8%b1%d8%a9-%d8%a7%d9%84%d8%b3%d9%8a%d8%af%d8%a9-%d9%81%d8%a7%d8%b7%d9%85%d8%a9-%d8%a7/\"><img alt=\"\" class=\"attachment-woocommerce_thumbnail size-woocommerce_thumbnail\" decoding=\"async\" fetchpriority=\"high\" height=\"600\" src=\"https://diwanegypt.com/wp-content/uploads/2024/09/9789779923871-450x600.jpg\" width=\"450\"/><h2 class=\"woocommerce-loop-product__title\">أم أبيها: سرد روائي لسيرة السيدة فاطمة الزهراء</h2><span class=\"author\">محمد الدمرداش العقالى</span>\n",
       "<span class=\"price\"><span class=\"woocommerce-Price-amount amount\"><bdi><span class=\"woocommerce-Price-currencySymbol\">EGP</span>295.00</bdi></span></span>\n",
       "</a>"
      ]
     },
     "execution_count": 49,
     "metadata": {},
     "output_type": "execute_result"
    }
   ],
   "source": [
    "# scrap the books names, authors and prices\n",
    "all_books = soup.find_all('a',attrs={'class':'woocommerce-LoopProduct-link woocommerce-loop-product__link'})\n",
    "all_books[0]"
   ]
  },
  {
   "cell_type": "code",
   "execution_count": 55,
   "metadata": {},
   "outputs": [
    {
     "data": {
      "text/plain": [
       "'أم أبيها: سرد روائي لسيرة السيدة فاطمة الزهراء'"
      ]
     },
     "execution_count": 55,
     "metadata": {},
     "output_type": "execute_result"
    }
   ],
   "source": [
    "Title = all_books[0].find('h2',attrs={'class':'woocommerce-loop-product__title'}).get_text()\n",
    "Title"
   ]
  },
  {
   "cell_type": "code",
   "execution_count": 61,
   "metadata": {},
   "outputs": [
    {
     "data": {
      "text/plain": [
       "'محمد الدمرداش العقالى'"
      ]
     },
     "execution_count": 61,
     "metadata": {},
     "output_type": "execute_result"
    }
   ],
   "source": [
    "Author =  all_books[0].find('span',attrs={'class':'author'}).get_text()\n",
    "Author"
   ]
  },
  {
   "cell_type": "code",
   "execution_count": 75,
   "metadata": {},
   "outputs": [
    {
     "data": {
      "text/plain": [
       "'EGP295.00'"
      ]
     },
     "execution_count": 75,
     "metadata": {},
     "output_type": "execute_result"
    }
   ],
   "source": [
    "Price = all_books[0].find('span',attrs={'class':'price'}).find('span',attrs={'class':'woocommerce-Price-amount amount'}).find('bdi').get_text()\n",
    "Price"
   ]
  },
  {
   "cell_type": "code",
   "execution_count": 77,
   "metadata": {},
   "outputs": [
    {
     "name": "stdout",
     "output_type": "stream",
     "text": [
      "page number 2\n",
      "page number 3\n",
      "page number 4\n",
      "page number 5\n",
      "page number 6\n",
      "page number 7\n",
      "page number 8\n",
      "page number 9\n",
      "page number 10\n",
      "page number 11\n",
      "page number 12\n",
      "page number 13\n",
      "page number 14\n",
      "page number 15\n",
      "page number 16\n",
      "page number 17\n",
      "page number 18\n",
      "page number 19\n",
      "page number 20\n",
      "page number 21\n",
      "page number 22\n",
      "page number 23\n",
      "page number 24\n",
      "page number 25\n",
      "page number 26\n",
      "page number 27\n",
      "page number 28\n",
      "page number 29\n",
      "page number 30\n",
      "page number 31\n",
      "page number 32\n",
      "page number 33\n",
      "page number 34\n",
      "page number 35\n",
      "page number 36\n",
      "page number 37\n",
      "page number 38\n",
      "page number 39\n",
      "page number 40\n",
      "page number 41\n",
      "page number 42\n",
      "page number 43\n",
      "page number 44\n",
      "page number 45\n",
      "page number 46\n",
      "page number 47\n",
      "page number 48\n",
      "page number 49\n",
      "page number 50\n",
      "page number 51\n",
      "page number 52\n",
      "page number 53\n",
      "page number 54\n",
      "page number 55\n",
      "page number 56\n",
      "page number 57\n",
      "page number 58\n",
      "page number 59\n",
      "page number 60\n",
      "page number 61\n",
      "page number 62\n",
      "page number 63\n",
      "page number 64\n",
      "page number 65\n",
      "page number 66\n",
      "page number 67\n",
      "page number 68\n",
      "page number 69\n",
      "page number 70\n",
      "page number 71\n",
      "page number 72\n",
      "page number 73\n",
      "page number 74\n",
      "page number 75\n",
      "page number 76\n",
      "page number 77\n",
      "page number 78\n",
      "page number 79\n",
      "page number 80\n",
      "page number 81\n",
      "page number 82\n",
      "page number 83\n",
      "page number 84\n",
      "page number 85\n",
      "page number 86\n",
      "page number 87\n",
      "page number 88\n",
      "page number 89\n",
      "page number 90\n",
      "page number 91\n",
      "page number 92\n",
      "page number 93\n",
      "page number 94\n",
      "page number 95\n",
      "page number 96\n",
      "page number 97\n",
      "page number 98\n",
      "page number 99\n",
      "page number 100\n",
      "page number 101\n",
      "page number 102\n",
      "page number 103\n",
      "page number 104\n",
      "page number 105\n",
      "page number 106\n",
      "page number 107\n",
      "page number 108\n",
      "page number 109\n",
      "page number 110\n",
      "page number 111\n",
      "page number 112\n",
      "page number 113\n",
      "page number 114\n",
      "page number 115\n",
      "page number 116\n",
      "page number 117\n",
      "page number 118\n",
      "page number 119\n",
      "page number 120\n",
      "page number 121\n",
      "page number 122\n",
      "page number 123\n",
      "page number 124\n",
      "page number 125\n",
      "page number 126\n",
      "page number 127\n",
      "page number 128\n",
      "page number 129\n",
      "page number 130\n",
      "page number 131\n",
      "page number 132\n",
      "page number 133\n",
      "page number 134\n",
      "page number 135\n",
      "page number 136\n",
      "page number 137\n",
      "page number 138\n",
      "page number 139\n",
      "page number 140\n",
      "page number 141\n",
      "page number 142\n",
      "page number 143\n",
      "page number 144\n",
      "page number 145\n",
      "page number 146\n",
      "page number 147\n",
      "page number 148\n",
      "page number 149\n",
      "page number 150\n",
      "page number 151\n",
      "page number 152\n",
      "page number 153\n",
      "page number 154\n",
      "page number 155\n",
      "page number 156\n",
      "page number 157\n",
      "page number 158\n",
      "page number 159\n",
      "page number 160\n",
      "page number 161\n",
      "page number 162\n",
      "page number 163\n",
      "page number 164\n",
      "page number 165\n",
      "page number 166\n",
      "page number 167\n",
      "page number 168\n",
      "page number 169\n",
      "page number 170\n",
      "page number 171\n",
      "page number 172\n",
      "page number 173\n",
      "page number 174\n",
      "page number 175\n",
      "page number 176\n",
      "page number 177\n",
      "page number 178\n",
      "page number 179\n",
      "page number 180\n",
      "page number 181\n",
      "page number 182\n",
      "page number 183\n",
      "page number 184\n",
      "page number 185\n",
      "page number 186\n",
      "page number 187\n",
      "page number 188\n",
      "page number 189\n",
      "Finished\n"
     ]
    }
   ],
   "source": [
    "page_number = 1\n",
    "Data = []\n",
    "while True:\n",
    "    respond = requests.get(f'https://diwanegypt.com/product-category/books/arabic-books/page/{page_number}/')\n",
    "    soup = BeautifulSoup(respond.content,'html.parser')\n",
    "    all_books = soup.find_all('a',attrs={'class':'woocommerce-LoopProduct-link woocommerce-loop-product__link'})\n",
    "\n",
    "    for book in all_books:\n",
    "        Title = book.find('h2',attrs={'class':'woocommerce-loop-product__title'}).get_text()\n",
    "        Author = book.find('span',attrs={'class':'author'}).get_text()\n",
    "        Price = book.find('span',attrs={'class':'price'}).find('span',attrs={'class':'woocommerce-Price-amount amount'}).find('bdi').get_text()\n",
    "\n",
    "        d = [Title,Author,Price]\n",
    "        Data.append(d)\n",
    "\n",
    "    if page_number < 189:\n",
    "        page_number += 1\n",
    "    else:\n",
    "        print('Finished')\n",
    "        break\n",
    "    print('page number',page_number)    "
   ]
  },
  {
   "cell_type": "code",
   "execution_count": 80,
   "metadata": {},
   "outputs": [],
   "source": [
    "with open('Diwan.csv','w',newline='',encoding='UTF-8') as file:\n",
    "    writer = csv.writer(file)\n",
    "    header = ['Title','Author','Price']\n",
    "    writer.writerow(header)\n",
    "    writer.writerows(Data)"
   ]
  },
  {
   "cell_type": "code",
   "execution_count": 92,
   "metadata": {},
   "outputs": [],
   "source": [
    "# Read the data to a data frame\n",
    "df = pd.read_csv('Diwan.csv')"
   ]
  },
  {
   "cell_type": "code",
   "execution_count": 96,
   "metadata": {},
   "outputs": [
    {
     "data": {
      "text/html": [
       "<div>\n",
       "<style scoped>\n",
       "    .dataframe tbody tr th:only-of-type {\n",
       "        vertical-align: middle;\n",
       "    }\n",
       "\n",
       "    .dataframe tbody tr th {\n",
       "        vertical-align: top;\n",
       "    }\n",
       "\n",
       "    .dataframe thead th {\n",
       "        text-align: right;\n",
       "    }\n",
       "</style>\n",
       "<table border=\"1\" class=\"dataframe\">\n",
       "  <thead>\n",
       "    <tr style=\"text-align: right;\">\n",
       "      <th></th>\n",
       "      <th>Title</th>\n",
       "      <th>Author</th>\n",
       "      <th>Price</th>\n",
       "    </tr>\n",
       "  </thead>\n",
       "  <tbody>\n",
       "    <tr>\n",
       "      <th>0</th>\n",
       "      <td>أم أبيها: سرد روائي لسيرة السيدة فاطمة الزهراء</td>\n",
       "      <td>محمد الدمرداش العقالى</td>\n",
       "      <td>EGP295.00</td>\n",
       "    </tr>\n",
       "    <tr>\n",
       "      <th>1</th>\n",
       "      <td>حكايات الغيلان</td>\n",
       "      <td>عبد الرحيم بلغنامى</td>\n",
       "      <td>EGP195.00</td>\n",
       "    </tr>\n",
       "    <tr>\n",
       "      <th>2</th>\n",
       "      <td>الإتيكيت: مهارات بناء العلاقات الإجتماعية والد...</td>\n",
       "      <td>نادين جاد</td>\n",
       "      <td>EGP325.00</td>\n",
       "    </tr>\n",
       "    <tr>\n",
       "      <th>3</th>\n",
       "      <td>آن في الجزيرة</td>\n",
       "      <td>لوسي مود مونتغمري</td>\n",
       "      <td>EGP295.00</td>\n",
       "    </tr>\n",
       "    <tr>\n",
       "      <th>4</th>\n",
       "      <td>لا تقل إنني لم أحذرك!: لحظات في حياتي الكتابية...</td>\n",
       "      <td>تشاك بولانيك</td>\n",
       "      <td>EGP280.00</td>\n",
       "    </tr>\n",
       "    <tr>\n",
       "      <th>5</th>\n",
       "      <td>مهووس: أن تبني علامة تجارية يحبها الناس من أول...</td>\n",
       "      <td>اميلى هيوارد</td>\n",
       "      <td>EGP300.00</td>\n",
       "    </tr>\n",
       "    <tr>\n",
       "      <th>6</th>\n",
       "      <td>ماجدولين</td>\n",
       "      <td>مصطفى لطفى المنفلوطى</td>\n",
       "      <td>EGP150.00</td>\n",
       "    </tr>\n",
       "    <tr>\n",
       "      <th>7</th>\n",
       "      <td>النبي</td>\n",
       "      <td>جبران خليل جبران</td>\n",
       "      <td>EGP75.00</td>\n",
       "    </tr>\n",
       "    <tr>\n",
       "      <th>8</th>\n",
       "      <td>الأمير الصغير</td>\n",
       "      <td>انطوان دو سانت اكزوبرى</td>\n",
       "      <td>EGP90.00</td>\n",
       "    </tr>\n",
       "    <tr>\n",
       "      <th>9</th>\n",
       "      <td>عبقرية محمد</td>\n",
       "      <td>عباس محمود العقاد</td>\n",
       "      <td>EGP140.00</td>\n",
       "    </tr>\n",
       "  </tbody>\n",
       "</table>\n",
       "</div>"
      ],
      "text/plain": [
       "                                               Title                  Author  \\\n",
       "0     أم أبيها: سرد روائي لسيرة السيدة فاطمة الزهراء   محمد الدمرداش العقالى   \n",
       "1                                     حكايات الغيلان      عبد الرحيم بلغنامى   \n",
       "2  الإتيكيت: مهارات بناء العلاقات الإجتماعية والد...               نادين جاد   \n",
       "3                                      آن في الجزيرة       لوسي مود مونتغمري   \n",
       "4  لا تقل إنني لم أحذرك!: لحظات في حياتي الكتابية...            تشاك بولانيك   \n",
       "5  مهووس: أن تبني علامة تجارية يحبها الناس من أول...            اميلى هيوارد   \n",
       "6                                           ماجدولين    مصطفى لطفى المنفلوطى   \n",
       "7                                              النبي        جبران خليل جبران   \n",
       "8                                      الأمير الصغير  انطوان دو سانت اكزوبرى   \n",
       "9                                        عبقرية محمد       عباس محمود العقاد   \n",
       "\n",
       "       Price  \n",
       "0  EGP295.00  \n",
       "1  EGP195.00  \n",
       "2  EGP325.00  \n",
       "3  EGP295.00  \n",
       "4  EGP280.00  \n",
       "5  EGP300.00  \n",
       "6  EGP150.00  \n",
       "7   EGP75.00  \n",
       "8   EGP90.00  \n",
       "9  EGP140.00  "
      ]
     },
     "execution_count": 96,
     "metadata": {},
     "output_type": "execute_result"
    }
   ],
   "source": [
    "# Get the head of the dataframe\n",
    "df.head(10)"
   ]
  },
  {
   "cell_type": "code",
   "execution_count": 98,
   "metadata": {},
   "outputs": [
    {
     "data": {
      "text/html": [
       "<div>\n",
       "<style scoped>\n",
       "    .dataframe tbody tr th:only-of-type {\n",
       "        vertical-align: middle;\n",
       "    }\n",
       "\n",
       "    .dataframe tbody tr th {\n",
       "        vertical-align: top;\n",
       "    }\n",
       "\n",
       "    .dataframe thead th {\n",
       "        text-align: right;\n",
       "    }\n",
       "</style>\n",
       "<table border=\"1\" class=\"dataframe\">\n",
       "  <thead>\n",
       "    <tr style=\"text-align: right;\">\n",
       "      <th></th>\n",
       "      <th>Title</th>\n",
       "      <th>Author</th>\n",
       "      <th>Price</th>\n",
       "    </tr>\n",
       "  </thead>\n",
       "  <tbody>\n",
       "    <tr>\n",
       "      <th>3246</th>\n",
       "      <td>بئر الحرمان</td>\n",
       "      <td>احسان عبد القدوس</td>\n",
       "      <td>EGP130.00</td>\n",
       "    </tr>\n",
       "    <tr>\n",
       "      <th>3247</th>\n",
       "      <td>دم الخلفاء</td>\n",
       "      <td>وليد فكرى</td>\n",
       "      <td>EGP115.00</td>\n",
       "    </tr>\n",
       "    <tr>\n",
       "      <th>3248</th>\n",
       "      <td>أشياء رائعة</td>\n",
       "      <td>ريم بسيوني</td>\n",
       "      <td>EGP150.00</td>\n",
       "    </tr>\n",
       "    <tr>\n",
       "      <th>3249</th>\n",
       "      <td>سوف أحكى عنك</td>\n",
       "      <td>احمد مهنى</td>\n",
       "      <td>EGP250.00</td>\n",
       "    </tr>\n",
       "    <tr>\n",
       "      <th>3250</th>\n",
       "      <td>عبقرية الامام</td>\n",
       "      <td>عباس محمود العقاد</td>\n",
       "      <td>EGP75.00</td>\n",
       "    </tr>\n",
       "    <tr>\n",
       "      <th>3251</th>\n",
       "      <td>الحب فى المنفى</td>\n",
       "      <td>بهاء طاهر</td>\n",
       "      <td>EGP265.00</td>\n",
       "    </tr>\n",
       "    <tr>\n",
       "      <th>3252</th>\n",
       "      <td>موسم الهجرة الى الشمال</td>\n",
       "      <td>الطيب صالح</td>\n",
       "      <td>EGP100.00</td>\n",
       "    </tr>\n",
       "    <tr>\n",
       "      <th>3253</th>\n",
       "      <td>ملامح القاهرة فى الف سنة</td>\n",
       "      <td>جمال الغيطاني</td>\n",
       "      <td>EGP100.00</td>\n",
       "    </tr>\n",
       "    <tr>\n",
       "      <th>3254</th>\n",
       "      <td>قلبى يحدثنى بأنك متلفى</td>\n",
       "      <td>اسامة الصاوى</td>\n",
       "      <td>EGP100.00</td>\n",
       "    </tr>\n",
       "    <tr>\n",
       "      <th>3255</th>\n",
       "      <td>رسائل فى الحكمة</td>\n",
       "      <td>ابو حامد الغزالى</td>\n",
       "      <td>EGP80.00</td>\n",
       "    </tr>\n",
       "  </tbody>\n",
       "</table>\n",
       "</div>"
      ],
      "text/plain": [
       "                         Title             Author      Price\n",
       "3246               بئر الحرمان   احسان عبد القدوس  EGP130.00\n",
       "3247                دم الخلفاء          وليد فكرى  EGP115.00\n",
       "3248               أشياء رائعة         ريم بسيوني  EGP150.00\n",
       "3249              سوف أحكى عنك          احمد مهنى  EGP250.00\n",
       "3250             عبقرية الامام  عباس محمود العقاد   EGP75.00\n",
       "3251            الحب فى المنفى          بهاء طاهر  EGP265.00\n",
       "3252    موسم الهجرة الى الشمال         الطيب صالح  EGP100.00\n",
       "3253  ملامح القاهرة فى الف سنة      جمال الغيطاني  EGP100.00\n",
       "3254    قلبى يحدثنى بأنك متلفى       اسامة الصاوى  EGP100.00\n",
       "3255           رسائل فى الحكمة   ابو حامد الغزالى   EGP80.00"
      ]
     },
     "execution_count": 98,
     "metadata": {},
     "output_type": "execute_result"
    }
   ],
   "source": [
    "# Get the tail of the dataframe\n",
    "df.tail(10)"
   ]
  }
 ],
 "metadata": {
  "kernelspec": {
   "display_name": "Python 3 (ipykernel)",
   "language": "python",
   "name": "python3"
  },
  "language_info": {
   "codemirror_mode": {
    "name": "ipython",
    "version": 3
   },
   "file_extension": ".py",
   "mimetype": "text/x-python",
   "name": "python",
   "nbconvert_exporter": "python",
   "pygments_lexer": "ipython3",
   "version": "3.12.4"
  }
 },
 "nbformat": 4,
 "nbformat_minor": 4
}
