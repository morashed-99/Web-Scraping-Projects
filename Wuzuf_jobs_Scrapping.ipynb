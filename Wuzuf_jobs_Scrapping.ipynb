{
 "cells": [
  {
   "cell_type": "code",
   "execution_count": 1,
   "id": "41a283b0",
   "metadata": {},
   "outputs": [],
   "source": [
    "# Imports \n",
    "import requests\n",
    "from bs4 import BeautifulSoup\n",
    "import csv \n",
    "import pandas as pd\n",
    "import os\n",
    "import time"
   ]
  },
  {
   "cell_type": "markdown",
   "id": "05f5456e",
   "metadata": {},
   "source": [
    "## Wuzzuf Data Science Jobs Scrapping\n",
    "- You are required to scrap all data science jobs from wuzzuf and save the results in csv file\n",
    "- the required fields are\n",
    "<ul>\n",
    "    <li>job title</li>\n",
    "    <li>job link</li>\n",
    "    <li>Location</li>\n",
    "    <li>company_name</li>\n",
    "</ul>"
   ]
  },
  {
   "cell_type": "markdown",
   "id": "7947747c-565e-4b62-a8aa-9fb2ab70f761",
   "metadata": {},
   "source": [
    "# Get Soup"
   ]
  },
  {
   "cell_type": "code",
   "execution_count": 2,
   "id": "24d8657a-423a-45cb-8405-9bd262eba4b7",
   "metadata": {},
   "outputs": [],
   "source": [
    "results = requests.get(f'https://wuzzuf.net/search/jobs/?a=navbl&q=data%20science%20jobs&start=0')\n",
    "soup = BeautifulSoup(results.content, 'html.parser')"
   ]
  },
  {
   "cell_type": "markdown",
   "id": "1b61a430-1942-4bfc-b7c7-c0fa473c468a",
   "metadata": {},
   "source": [
    "# Find juobs"
   ]
  },
  {
   "cell_type": "code",
   "execution_count": 3,
   "id": "26ec9c6b-4c22-4d45-99c7-ea0356df12ad",
   "metadata": {},
   "outputs": [],
   "source": [
    "all_jobs = soup.find_all('div', attrs= {'class' : 'css-pkv5jc'})"
   ]
  },
  {
   "cell_type": "code",
   "execution_count": 4,
   "id": "325bbf82-5f0b-423a-84e9-f3b59712d609",
   "metadata": {},
   "outputs": [
    {
     "data": {
      "text/plain": [
       "<div class=\"css-pkv5jc\"><a href=\"https://wuzzuf.net/jobs/careers/WUZZUF-Egypt-15061\" rel=\"noreferrer\" target=\"_blank\"><style data-emotion=\"css 17095x3\">.css-17095x3{position:absolute;right:0;top:0;width:60px;height:60px;object-fit:contain;object-position:center center;}</style></a><style data-emotion=\"css laomuu\">.css-laomuu{padding-right:60px;}</style><div class=\"css-laomuu\"><style data-emotion=\"css m604qf\">.css-m604qf{font-size:16px;font-weight:600;font-style:normal;letter-spacing:-0.4px;line-height:24px;color:#0055D9;margin:0;}</style><h2 class=\"css-m604qf\"><style data-emotion=\"css o171kl\">.css-o171kl{-webkit-text-decoration:none;text-decoration:none;color:inherit;}</style><a class=\"css-o171kl\" href=\"https://wuzzuf.net/jobs/p/Z2oRrb24292t-Data-Analyst-Lead-Manager-WUZZUF-Cairo-Egypt\" rel=\"noreferrer\" target=\"_blank\">Data Analyst Lead / Manager</a></h2><style data-emotion=\"css d7j1kk\">.css-d7j1kk{margin-bottom:8px;overflow:hidden;text-overflow:ellipsis;}</style><div class=\"css-d7j1kk\"><style data-emotion=\"css 17s97q8\">.css-17s97q8{font-size:12px;font-weight:600;font-style:normal;letter-spacing:-0.27px;line-height:19px;color:#001433;-webkit-text-decoration:none;text-decoration:none;}</style><a class=\"css-17s97q8\" href=\"https://wuzzuf.net/jobs/careers/WUZZUF-Egypt-15061\" rel=\"noreferrer\" target=\"_blank\">WUZZUF -</a> <style data-emotion=\"css 5wys0k\">.css-5wys0k{font-size:12px;font-weight:600;font-style:normal;letter-spacing:-0.27px;line-height:19px;color:#4D6182;}</style><span class=\"css-5wys0k\">Maadi, <!-- -->Cairo, <!-- -->Egypt </span><style data-emotion=\"css 4c4ojb\">.css-4c4ojb{font-size:12px;font-weight:400;font-style:normal;letter-spacing:-0.27px;line-height:19px;color:#2C9266;}</style><div class=\"css-4c4ojb\">5 days<!-- --> ago</div></div></div><style data-emotion=\"css y4udm8\">.css-y4udm8{font-size:13px;font-weight:600;font-style:normal;letter-spacing:-0.3px;line-height:20px;color:#4D6182;}</style><div class=\"css-y4udm8\"><style data-emotion=\"css 1lh32fc\">.css-1lh32fc{display:-webkit-box;display:-webkit-flex;display:-ms-flexbox;display:flex;margin-bottom:8px;-webkit-align-items:center;-webkit-box-align:center;-ms-flex-align:center;align-items:center;-webkit-box-flex-wrap:wrap;-webkit-flex-wrap:wrap;-ms-flex-wrap:wrap;flex-wrap:wrap;}</style><div class=\"css-1lh32fc\"><style data-emotion=\"css n2jc4m\">.css-n2jc4m{display:-webkit-inline-box;display:-webkit-inline-flex;display:-ms-inline-flexbox;display:inline-flex;-webkit-align-items:center;-webkit-box-align:center;-ms-flex-align:center;align-items:center;-webkit-text-decoration:none;text-decoration:none;color:inherit;margin-bottom:4px;}</style><a class=\"css-n2jc4m\" href=\"/a/Full-Time-Jobs-in-Egypt\"><style data-emotion=\"css adtuo7\">.css-adtuo7{cursor:pointer;padding:0 4px;border-radius:4px;}</style><style data-emotion=\"css 1ve4b75\">.css-1ve4b75{font-size:12px;font-weight:600;display:-webkit-inline-box;display:-webkit-inline-flex;display:-ms-inline-flexbox;display:inline-flex;-webkit-align-items:center;-webkit-box-align:center;-ms-flex-align:center;align-items:center;min-height:20px;margin-right:4px;border-radius:2px;max-width:196px;white-space:nowrap;overflow:hidden;cursor:default;text-overflow:ellipsis;padding:2px 4px;background-color:#EBEDF0;color:#001433;cursor:pointer;padding:0 4px;border-radius:4px;}</style><span class=\"css-1ve4b75 eoyjyou0\">Full Time</span></a><a href=\"/a/Hybrid-Jobs-in-Egypt\"><style data-emotion=\"css 1i1n6hw\">.css-1i1n6hw{cursor:pointer;padding:0 4px;border-radius:4px;margin-bottom:4px;}</style><style data-emotion=\"css o1vzmt\">.css-o1vzmt{font-size:12px;font-weight:600;display:-webkit-inline-box;display:-webkit-inline-flex;display:-ms-inline-flexbox;display:inline-flex;-webkit-align-items:center;-webkit-box-align:center;-ms-flex-align:center;align-items:center;min-height:20px;margin-right:4px;border-radius:2px;max-width:196px;white-space:nowrap;overflow:hidden;cursor:default;text-overflow:ellipsis;padding:2px 4px;background-color:#EBEDF0;color:#001433;cursor:pointer;padding:0 4px;border-radius:4px;margin-bottom:4px;}</style><span class=\"css-o1vzmt eoyjyou0\">Hybrid</span></a></div><div><a class=\"css-o171kl\" href=\"/a/Manager-Jobs-in-Egypt\">Manager</a> <span>· <!-- -->7 - 15 Yrs of Exp</span><a class=\"css-o171kl\" href=\"/a/IT-Software-Development-Jobs-in-Egypt\"> <!-- -->· <!-- -->IT/Software Development</a><a class=\"css-o171kl\" href=\"/a/Analyst-Research-Jobs-in-Egypt\"> <!-- -->· <!-- -->Analyst/Research</a><a class=\"css-o171kl\" href=\"/a/Engineering-Telecom-Technology-Jobs-in-Egypt\"> <!-- -->· <!-- -->Engineering - Telecom/Technology</a><style data-emotion=\"css 5x9pm1\">.css-5x9pm1{-webkit-text-decoration:none;text-decoration:none;color:inherit;max-width:calc(100vw / 2 - 32px);white-space:nowrap;overflow:hidden;text-overflow:ellipsis;display:-webkit-inline-box;display:-webkit-inline-flex;display:-ms-inline-flexbox;display:inline-flex;}</style><a class=\"css-5x9pm1\" href=\"/a/Analysis-Jobs-in-Egypt\"> <!-- -->· <!-- -->Analysis</a><a class=\"css-5x9pm1\" href=\"/a/Business-Jobs-in-Egypt\"> <!-- -->· <!-- -->business</a><a class=\"css-5x9pm1\" href=\"/a/Computer-Engineering-Jobs-in-Egypt\"> <!-- -->· <!-- -->Computer Engineering</a> <!-- -->·<!-- --> <a class=\"css-5x9pm1\" href=\"/a/Computer-Science-Jobs-in-Egypt\"><span><span>Computer </span><strong class=\"highlight\">Science</strong></span></a> <!-- -->·<!-- --> <a class=\"css-5x9pm1\" href=\"/a/Data-Analysis-Jobs-in-Egypt\"><span><strong class=\"highlight\">Data</strong><span> Analysis</span></span></a><a class=\"css-5x9pm1\" href=\"/a/Engineering-Jobs-in-Egypt\"> <!-- -->· <!-- -->Engineering</a><a class=\"css-5x9pm1\" href=\"/a/Microsoft-Excel-Jobs-in-Egypt\"> <!-- -->· <!-- -->Microsoft Excel</a></div></div></div>"
      ]
     },
     "execution_count": 4,
     "metadata": {},
     "output_type": "execute_result"
    }
   ],
   "source": [
    "all_jobs[0]"
   ]
  },
  {
   "cell_type": "markdown",
   "id": "36f3cd9a-a49d-44eb-8072-aecee83660a2",
   "metadata": {},
   "source": [
    "# Job Numbers"
   ]
  },
  {
   "cell_type": "code",
   "execution_count": 5,
   "id": "24876bff-7e8c-42b6-ace3-215dfe73976d",
   "metadata": {},
   "outputs": [],
   "source": [
    "job_number = soup.find('li', attrs = {'class' : 'css-8neukt'}).text"
   ]
  },
  {
   "cell_type": "code",
   "execution_count": 6,
   "id": "43e4dda1-3752-4684-838d-2d44ab5067c1",
   "metadata": {},
   "outputs": [
    {
     "data": {
      "text/plain": [
       "'Showing 1 - 15 of 838'"
      ]
     },
     "execution_count": 6,
     "metadata": {},
     "output_type": "execute_result"
    }
   ],
   "source": [
    "job_number"
   ]
  },
  {
   "cell_type": "code",
   "execution_count": 7,
   "id": "0413344c-3811-482e-af81-bbd6599c06f9",
   "metadata": {},
   "outputs": [
    {
     "data": {
      "text/plain": [
       "-1"
      ]
     },
     "execution_count": 7,
     "metadata": {},
     "output_type": "execute_result"
    }
   ],
   "source": [
    "job_number[:-3].find(job_number[-3:])"
   ]
  },
  {
   "cell_type": "markdown",
   "id": "77ef313e-2f09-4a71-bdab-14dc068b74c4",
   "metadata": {},
   "source": [
    "# Link"
   ]
  },
  {
   "cell_type": "code",
   "execution_count": 8,
   "id": "b30ae160-daaa-4a6d-92d4-bd38bcf0e5b1",
   "metadata": {},
   "outputs": [],
   "source": [
    "job= all_jobs[0]"
   ]
  },
  {
   "cell_type": "code",
   "execution_count": 9,
   "id": "4527c8e1-68ee-4453-98b7-2f3abde1e448",
   "metadata": {},
   "outputs": [],
   "source": [
    "link = job.find('a', attrs = {'target' : \"_blank\", 'class' : 'css-o171kl'})['href']"
   ]
  },
  {
   "cell_type": "code",
   "execution_count": 10,
   "id": "cd3a2c85-0d2a-45e3-a511-66bb85759649",
   "metadata": {},
   "outputs": [
    {
     "data": {
      "text/plain": [
       "'https://wuzzuf.net/jobs/p/Z2oRrb24292t-Data-Analyst-Lead-Manager-WUZZUF-Cairo-Egypt'"
      ]
     },
     "execution_count": 10,
     "metadata": {},
     "output_type": "execute_result"
    }
   ],
   "source": [
    "link"
   ]
  },
  {
   "cell_type": "markdown",
   "id": "3af99532-d92a-4a26-b935-45429ecfcb5b",
   "metadata": {},
   "source": [
    "# Title"
   ]
  },
  {
   "cell_type": "code",
   "execution_count": 11,
   "id": "84c6f946-0449-47f1-9467-0b0722e6bc3c",
   "metadata": {},
   "outputs": [],
   "source": [
    "title = job.find('a', attrs = {'target' : \"_blank\", 'class' : 'css-o171kl'}).get_text()"
   ]
  },
  {
   "cell_type": "markdown",
   "id": "d6a35ebc-59a6-44eb-bb2a-886b4a70df17",
   "metadata": {},
   "source": [
    "# Location"
   ]
  },
  {
   "cell_type": "code",
   "execution_count": 12,
   "id": "f1928719-87aa-4ec3-af74-d0033030333e",
   "metadata": {},
   "outputs": [],
   "source": [
    "location = job.find('span', attrs = {'class' : 'css-5wys0k'}).get_text()"
   ]
  },
  {
   "cell_type": "code",
   "execution_count": 13,
   "id": "bd8d951a-ba2f-4f8c-804a-69257299c69f",
   "metadata": {},
   "outputs": [
    {
     "data": {
      "text/plain": [
       "'Maadi, Cairo, Egypt '"
      ]
     },
     "execution_count": 13,
     "metadata": {},
     "output_type": "execute_result"
    }
   ],
   "source": [
    "location"
   ]
  },
  {
   "cell_type": "markdown",
   "id": "91da4981-9519-4fb5-8160-0822d1f2a231",
   "metadata": {},
   "source": [
    "# description"
   ]
  },
  {
   "cell_type": "code",
   "execution_count": 14,
   "id": "631e2d5a-1ac4-4729-95ab-1cbf44e8b882",
   "metadata": {},
   "outputs": [],
   "source": [
    "description = job.find('div', attrs = {'class' : 'css-y4udm8'}).get_text()"
   ]
  },
  {
   "cell_type": "code",
   "execution_count": 15,
   "id": "bdf6d326-771a-4dbd-8aa4-67b8c7e9a18b",
   "metadata": {},
   "outputs": [
    {
     "data": {
      "text/plain": [
       "'Full TimeHybridManager · 7 - 15 Yrs of Exp · IT/Software Development · Analyst/Research · Engineering - Telecom/Technology · Analysis · business · Computer Engineering · Computer Science · Data Analysis · Engineering · Microsoft Excel'"
      ]
     },
     "execution_count": 15,
     "metadata": {},
     "output_type": "execute_result"
    }
   ],
   "source": [
    "description"
   ]
  },
  {
   "cell_type": "markdown",
   "id": "03ced8cd-0c66-4127-b0ba-edf7c1e74ae9",
   "metadata": {},
   "source": [
    "# company_name"
   ]
  },
  {
   "cell_type": "code",
   "execution_count": 16,
   "id": "3602d907-176c-43b0-a27a-9860b765ae07",
   "metadata": {},
   "outputs": [],
   "source": [
    "company_name = job.find('a', attrs = {'target' : \"_blank\", 'class' : 'css-17s97q8'}).get_text()"
   ]
  },
  {
   "cell_type": "code",
   "execution_count": 17,
   "id": "e9f2adbb",
   "metadata": {},
   "outputs": [
    {
     "name": "stdout",
     "output_type": "stream",
     "text": [
      "Page Number:  1\n",
      "Page Number:  2\n",
      "Page Number:  3\n",
      "Page Number:  4\n",
      "Page Number:  5\n",
      "Page Number:  6\n",
      "Page Number:  7\n",
      "Page Number:  8\n",
      "Page Number:  9\n",
      "Page Number:  10\n",
      "Page Number:  11\n",
      "Page Number:  12\n",
      "Page Number:  13\n",
      "Page Number:  14\n",
      "Page Number:  15\n",
      "Page Number:  16\n",
      "Page Number:  17\n",
      "Page Number:  18\n",
      "Page Number:  19\n",
      "Page Number:  20\n",
      "Page Number:  21\n",
      "Page Number:  22\n",
      "Page Number:  23\n",
      "Page Number:  24\n",
      "Page Number:  25\n",
      "Page Number:  26\n",
      "Page Number:  27\n",
      "Page Number:  28\n",
      "Page Number:  29\n",
      "Page Number:  30\n",
      "Page Number:  31\n",
      "Page Number:  32\n",
      "Page Number:  33\n",
      "Page Number:  34\n",
      "Page Number:  35\n",
      "Page Number:  36\n",
      "Page Number:  37\n",
      "Page Number:  38\n",
      "Page Number:  39\n",
      "Page Number:  40\n",
      "Page Number:  41\n",
      "Page Number:  42\n",
      "Page Number:  43\n",
      "Page Number:  44\n",
      "Page Number:  45\n",
      "Page Number:  46\n",
      "Page Number:  47\n",
      "Page Number:  48\n",
      "Page Number:  49\n",
      "Page Number:  50\n",
      "Page Number:  51\n",
      "Page Number:  52\n",
      "Page Number:  53\n",
      "Page Number:  54\n",
      "Page Number:  55\n",
      "Finished\n"
     ]
    }
   ],
   "source": [
    "page_number = 0\n",
    "data=[]\n",
    "while True :\n",
    "    results = requests.get(f'https://wuzzuf.net/search/jobs/?a=navbl&q=data%20science%20jobs&start={page_number}')\n",
    "    soup = BeautifulSoup(results.content, 'html.parser')\n",
    "    all_jobs = soup.find_all('div', attrs= {'class' : 'css-pkv5jc'})\n",
    "    job_number = soup.find('li', attrs = {'class' : 'css-8neukt'}).text\n",
    "    \n",
    "    for job in all_jobs :\n",
    "    \n",
    "        link = job.find('a', attrs = {'target' : \"_blank\", 'class' : 'css-o171kl'})['href']\n",
    "        title = job.find('a', attrs = {'target' : \"_blank\", 'class' : 'css-o171kl'}).get_text()\n",
    "        location = job.find('span', attrs = {'class' : 'css-5wys0k'}).get_text()\n",
    "        description = job.find('div', attrs = {'class' : 'css-y4udm8'}).get_text()\n",
    "        company_name = job.find('a', attrs = {'target' : \"_blank\", 'class' : 'css-17s97q8'}).get_text()    \n",
    "        \n",
    "        # List to collect the data\n",
    "        d = [link, title, location, description, company_name]\n",
    "        data.append(d)  \n",
    "        \n",
    "    # Stopping criteria\n",
    "    if job_number[:-3].find(job_number[-3:]) == -1 :\n",
    "        page_number += 1    \n",
    "    else :\n",
    "        print(\"Finished\")\n",
    "        break\n",
    "\n",
    "    print('Page Number: ',page_number)"
   ]
  },
  {
   "cell_type": "code",
   "execution_count": 18,
   "id": "7ce7ebbb",
   "metadata": {},
   "outputs": [
    {
     "data": {
      "text/plain": [
       "838"
      ]
     },
     "execution_count": 18,
     "metadata": {},
     "output_type": "execute_result"
    }
   ],
   "source": [
    "len(data)"
   ]
  },
  {
   "cell_type": "code",
   "execution_count": 19,
   "id": "68f2e395",
   "metadata": {},
   "outputs": [],
   "source": [
    "with open(\"jobs.csv\", 'w', newline = \"\", encoding = 'UTF-8') as f :\n",
    "    writer = csv.writer(f)\n",
    "    header = [\"link\", \"title\", \"location\", \"description\", \"company_name\"]\n",
    "    writer.writerow(header)\n",
    "    writer.writerows(data)"
   ]
  },
  {
   "cell_type": "code",
   "execution_count": 20,
   "id": "cdb3722c-30d9-4d93-b45f-6c612f4250ad",
   "metadata": {},
   "outputs": [
    {
     "data": {
      "text/html": [
       "<div>\n",
       "<style scoped>\n",
       "    .dataframe tbody tr th:only-of-type {\n",
       "        vertical-align: middle;\n",
       "    }\n",
       "\n",
       "    .dataframe tbody tr th {\n",
       "        vertical-align: top;\n",
       "    }\n",
       "\n",
       "    .dataframe thead th {\n",
       "        text-align: right;\n",
       "    }\n",
       "</style>\n",
       "<table border=\"1\" class=\"dataframe\">\n",
       "  <thead>\n",
       "    <tr style=\"text-align: right;\">\n",
       "      <th></th>\n",
       "      <th>link</th>\n",
       "      <th>title</th>\n",
       "      <th>location</th>\n",
       "      <th>description</th>\n",
       "      <th>company_name</th>\n",
       "    </tr>\n",
       "  </thead>\n",
       "  <tbody>\n",
       "    <tr>\n",
       "      <th>0</th>\n",
       "      <td>https://wuzzuf.net/jobs/p/Z2oRrb24292t-Data-An...</td>\n",
       "      <td>Data Analyst Lead / Manager</td>\n",
       "      <td>Maadi, Cairo, Egypt</td>\n",
       "      <td>Full TimeHybridManager · 7 - 15 Yrs of Exp · I...</td>\n",
       "      <td>WUZZUF -</td>\n",
       "    </tr>\n",
       "    <tr>\n",
       "      <th>1</th>\n",
       "      <td>https://wuzzuf.net/jobs/p/0g7i551BjSzq-Data-Sc...</td>\n",
       "      <td>Data Scientists Team Lead</td>\n",
       "      <td>Sheraton, Cairo, Egypt</td>\n",
       "      <td>Full TimeHybridManager · 5 - 10 Yrs of Exp · I...</td>\n",
       "      <td>Smart Vision Technologies -</td>\n",
       "    </tr>\n",
       "    <tr>\n",
       "      <th>2</th>\n",
       "      <td>https://wuzzuf.net/jobs/p/wbK72hYhmTCd-Data-An...</td>\n",
       "      <td>Data Analyst</td>\n",
       "      <td>10th of Ramadan City, Sharqia, Egypt</td>\n",
       "      <td>Full TimeOn-siteEntry Level · 1 - 5 Yrs of Exp...</td>\n",
       "      <td>United Group Steel -</td>\n",
       "    </tr>\n",
       "    <tr>\n",
       "      <th>3</th>\n",
       "      <td>https://wuzzuf.net/jobs/p/TU7iwLbeRqBU-Data-sc...</td>\n",
       "      <td>Data scientist/Statistician</td>\n",
       "      <td>Maadi, Cairo, Egypt</td>\n",
       "      <td>Full TimeOn-siteExperienced · 5 - 7 Yrs of Exp...</td>\n",
       "      <td>COB Solution  -</td>\n",
       "    </tr>\n",
       "    <tr>\n",
       "      <th>4</th>\n",
       "      <td>https://wuzzuf.net/jobs/p/oLYTmxxTsn8Y-Senior-...</td>\n",
       "      <td>Senior Data Modeler (Banking Experience Required)</td>\n",
       "      <td>Maadi, Cairo, Egypt</td>\n",
       "      <td>Full TimeHybridExperienced · 5 - 8 Yrs of Exp ...</td>\n",
       "      <td>BBI-Consultancy -</td>\n",
       "    </tr>\n",
       "    <tr>\n",
       "      <th>...</th>\n",
       "      <td>...</td>\n",
       "      <td>...</td>\n",
       "      <td>...</td>\n",
       "      <td>...</td>\n",
       "      <td>...</td>\n",
       "    </tr>\n",
       "    <tr>\n",
       "      <th>833</th>\n",
       "      <td>https://wuzzuf.net/jobs/p/g/hBbX4SNkVooW-Suppl...</td>\n",
       "      <td>Supply Chain Analytics and Systems Specialist</td>\n",
       "      <td>Dubai, United Arab Emirates</td>\n",
       "      <td>Full TimeNot specified · Logistics/Supply Chai...</td>\n",
       "      <td>Boston Scientific -</td>\n",
       "    </tr>\n",
       "    <tr>\n",
       "      <th>834</th>\n",
       "      <td>https://wuzzuf.net/jobs/p/g/023YCPceSsth-Head-...</td>\n",
       "      <td>Head of Healthcare Communications, MEAR &amp; Russ...</td>\n",
       "      <td>Riyadh, Saudi Arabia</td>\n",
       "      <td>Full TimeExperienced · IT/Software Development...</td>\n",
       "      <td>Merck Healthcare -</td>\n",
       "    </tr>\n",
       "    <tr>\n",
       "      <th>835</th>\n",
       "      <td>https://wuzzuf.net/jobs/p/g/OF7Dl1vtaoNx-Busin...</td>\n",
       "      <td>Business Development Representative</td>\n",
       "      <td>Dubai, United Arab Emirates</td>\n",
       "      <td>Full TimeEntry Level · Business Development · ...</td>\n",
       "      <td>Saybolt Pakistan Limited -</td>\n",
       "    </tr>\n",
       "    <tr>\n",
       "      <th>836</th>\n",
       "      <td>https://wuzzuf.net/jobs/p/g/tJXGE8KCGYMN-HR-Op...</td>\n",
       "      <td>HR Operations Assistant</td>\n",
       "      <td>Dubai, United Arab Emirates</td>\n",
       "      <td>Full TimeEntry Level · Administration · Human ...</td>\n",
       "      <td>Greenfield International School, Dubai -</td>\n",
       "    </tr>\n",
       "    <tr>\n",
       "      <th>837</th>\n",
       "      <td>https://wuzzuf.net/jobs/p/g/YOHGO9Lvd6DD-Manag...</td>\n",
       "      <td>Manager - Supply Chain Planning GEM</td>\n",
       "      <td>Dubai, United Arab Emirates</td>\n",
       "      <td>Full TimeExperienced · Administration · Operat...</td>\n",
       "      <td>Boston Scientific -</td>\n",
       "    </tr>\n",
       "  </tbody>\n",
       "</table>\n",
       "<p>838 rows × 5 columns</p>\n",
       "</div>"
      ],
      "text/plain": [
       "                                                  link  \\\n",
       "0    https://wuzzuf.net/jobs/p/Z2oRrb24292t-Data-An...   \n",
       "1    https://wuzzuf.net/jobs/p/0g7i551BjSzq-Data-Sc...   \n",
       "2    https://wuzzuf.net/jobs/p/wbK72hYhmTCd-Data-An...   \n",
       "3    https://wuzzuf.net/jobs/p/TU7iwLbeRqBU-Data-sc...   \n",
       "4    https://wuzzuf.net/jobs/p/oLYTmxxTsn8Y-Senior-...   \n",
       "..                                                 ...   \n",
       "833  https://wuzzuf.net/jobs/p/g/hBbX4SNkVooW-Suppl...   \n",
       "834  https://wuzzuf.net/jobs/p/g/023YCPceSsth-Head-...   \n",
       "835  https://wuzzuf.net/jobs/p/g/OF7Dl1vtaoNx-Busin...   \n",
       "836  https://wuzzuf.net/jobs/p/g/tJXGE8KCGYMN-HR-Op...   \n",
       "837  https://wuzzuf.net/jobs/p/g/YOHGO9Lvd6DD-Manag...   \n",
       "\n",
       "                                                 title  \\\n",
       "0                          Data Analyst Lead / Manager   \n",
       "1                            Data Scientists Team Lead   \n",
       "2                                         Data Analyst   \n",
       "3                          Data scientist/Statistician   \n",
       "4    Senior Data Modeler (Banking Experience Required)   \n",
       "..                                                 ...   \n",
       "833      Supply Chain Analytics and Systems Specialist   \n",
       "834  Head of Healthcare Communications, MEAR & Russ...   \n",
       "835                Business Development Representative   \n",
       "836                            HR Operations Assistant   \n",
       "837                Manager - Supply Chain Planning GEM   \n",
       "\n",
       "                                  location  \\\n",
       "0                     Maadi, Cairo, Egypt    \n",
       "1                  Sheraton, Cairo, Egypt    \n",
       "2    10th of Ramadan City, Sharqia, Egypt    \n",
       "3                     Maadi, Cairo, Egypt    \n",
       "4                     Maadi, Cairo, Egypt    \n",
       "..                                     ...   \n",
       "833           Dubai, United Arab Emirates    \n",
       "834                  Riyadh, Saudi Arabia    \n",
       "835           Dubai, United Arab Emirates    \n",
       "836           Dubai, United Arab Emirates    \n",
       "837           Dubai, United Arab Emirates    \n",
       "\n",
       "                                           description  \\\n",
       "0    Full TimeHybridManager · 7 - 15 Yrs of Exp · I...   \n",
       "1    Full TimeHybridManager · 5 - 10 Yrs of Exp · I...   \n",
       "2    Full TimeOn-siteEntry Level · 1 - 5 Yrs of Exp...   \n",
       "3    Full TimeOn-siteExperienced · 5 - 7 Yrs of Exp...   \n",
       "4    Full TimeHybridExperienced · 5 - 8 Yrs of Exp ...   \n",
       "..                                                 ...   \n",
       "833  Full TimeNot specified · Logistics/Supply Chai...   \n",
       "834  Full TimeExperienced · IT/Software Development...   \n",
       "835  Full TimeEntry Level · Business Development · ...   \n",
       "836  Full TimeEntry Level · Administration · Human ...   \n",
       "837  Full TimeExperienced · Administration · Operat...   \n",
       "\n",
       "                                 company_name  \n",
       "0                                    WUZZUF -  \n",
       "1                 Smart Vision Technologies -  \n",
       "2                        United Group Steel -  \n",
       "3                             COB Solution  -  \n",
       "4                           BBI-Consultancy -  \n",
       "..                                        ...  \n",
       "833                       Boston Scientific -  \n",
       "834                        Merck Healthcare -  \n",
       "835                Saybolt Pakistan Limited -  \n",
       "836  Greenfield International School, Dubai -  \n",
       "837                       Boston Scientific -  \n",
       "\n",
       "[838 rows x 5 columns]"
      ]
     },
     "execution_count": 20,
     "metadata": {},
     "output_type": "execute_result"
    }
   ],
   "source": [
    "pd.read_csv('jobs.csv')"
   ]
  }
 ],
 "metadata": {
  "kernelspec": {
   "display_name": "Python 3 (ipykernel)",
   "language": "python",
   "name": "python3"
  },
  "language_info": {
   "codemirror_mode": {
    "name": "ipython",
    "version": 3
   },
   "file_extension": ".py",
   "mimetype": "text/x-python",
   "name": "python",
   "nbconvert_exporter": "python",
   "pygments_lexer": "ipython3",
   "version": "3.12.5"
  }
 },
 "nbformat": 4,
 "nbformat_minor": 5
}
