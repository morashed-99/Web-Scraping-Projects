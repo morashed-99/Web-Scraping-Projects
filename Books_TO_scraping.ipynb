{
 "cells": [
  {
   "cell_type": "code",
   "execution_count": 1,
   "id": "cbc17450-1200-45e8-b978-7be32a890c07",
   "metadata": {},
   "outputs": [],
   "source": [
    "link = 'https://books.toscrape.com/index.html'"
   ]
  },
  {
   "cell_type": "code",
   "execution_count": 3,
   "id": "24e9fcf0-99a7-475e-b08c-116033797dba",
   "metadata": {},
   "outputs": [],
   "source": [
    "import requests\n",
    "import csv\n",
    "from bs4 import BeautifulSoup\n",
    "import pandas as pd"
   ]
  },
  {
   "cell_type": "code",
   "execution_count": 5,
   "id": "bd3ec470-188d-4e7c-b4bc-0a57c261a24f",
   "metadata": {},
   "outputs": [],
   "source": [
    "respond = requests.get(link)\n",
    "soup = BeautifulSoup(respond.content,'html.parser')"
   ]
  },
  {
   "cell_type": "code",
   "execution_count": 9,
   "id": "5954fdbb-814f-47bd-b3fe-319db9e77e70",
   "metadata": {},
   "outputs": [
    {
     "data": {
      "text/plain": [
       "<article class=\"product_pod\">\n",
       "<div class=\"image_container\">\n",
       "<a href=\"catalogue/a-light-in-the-attic_1000/index.html\"><img alt=\"A Light in the Attic\" class=\"thumbnail\" src=\"media/cache/2c/da/2cdad67c44b002e7ead0cc35693c0e8b.jpg\"/></a>\n",
       "</div>\n",
       "<p class=\"star-rating Three\">\n",
       "<i class=\"icon-star\"></i>\n",
       "<i class=\"icon-star\"></i>\n",
       "<i class=\"icon-star\"></i>\n",
       "<i class=\"icon-star\"></i>\n",
       "<i class=\"icon-star\"></i>\n",
       "</p>\n",
       "<h3><a href=\"catalogue/a-light-in-the-attic_1000/index.html\" title=\"A Light in the Attic\">A Light in the ...</a></h3>\n",
       "<div class=\"product_price\">\n",
       "<p class=\"price_color\">£51.77</p>\n",
       "<p class=\"instock availability\">\n",
       "<i class=\"icon-ok\"></i>\n",
       "    \n",
       "        In stock\n",
       "    \n",
       "</p>\n",
       "<form>\n",
       "<button class=\"btn btn-primary btn-block\" data-loading-text=\"Adding...\" type=\"submit\">Add to basket</button>\n",
       "</form>\n",
       "</div>\n",
       "</article>"
      ]
     },
     "execution_count": 9,
     "metadata": {},
     "output_type": "execute_result"
    }
   ],
   "source": [
    "all_articles = soup.find_all('article',attrs={'class':'product_pod'})\n",
    "all_articles[0]"
   ]
  },
  {
   "cell_type": "code",
   "execution_count": 13,
   "id": "6c648673-8b77-4ceb-adb1-8a4843f9bdb4",
   "metadata": {},
   "outputs": [
    {
     "data": {
      "text/plain": [
       "'A Light in the ...'"
      ]
     },
     "execution_count": 13,
     "metadata": {},
     "output_type": "execute_result"
    }
   ],
   "source": [
    "title = all_articles[0].find('h3').find('a').get_text('title')\n",
    "title"
   ]
  },
  {
   "cell_type": "code",
   "execution_count": 21,
   "id": "1b3ec353-faae-44cb-bc48-bad383e27191",
   "metadata": {},
   "outputs": [
    {
     "data": {
      "text/plain": [
       "'51.77'"
      ]
     },
     "execution_count": 21,
     "metadata": {},
     "output_type": "execute_result"
    }
   ],
   "source": [
    "price = all_articles[0].find('p',attrs={'class':'price_color'}).get_text().split('£')[1]\n",
    "price"
   ]
  },
  {
   "cell_type": "code",
   "execution_count": 27,
   "id": "40e6e995-43b0-4730-bf4c-94cb6b0354de",
   "metadata": {},
   "outputs": [
    {
     "data": {
      "text/plain": [
       "'Three'"
      ]
     },
     "execution_count": 27,
     "metadata": {},
     "output_type": "execute_result"
    }
   ],
   "source": [
    "rating = all_articles[0].find('p',attrs={'class':'star-rating'}).get('class')[1]\n",
    "rating"
   ]
  },
  {
   "cell_type": "code",
   "execution_count": 65,
   "id": "0dcf676e-8943-4cda-9cfe-b3882fc38e54",
   "metadata": {},
   "outputs": [
    {
     "data": {
      "text/plain": [
       "'catalogue/a-light-in-the-attic_1000/index.html'"
      ]
     },
     "execution_count": 65,
     "metadata": {},
     "output_type": "execute_result"
    }
   ],
   "source": [
    "link = all_articles[0].find('div',attrs={'class':'image_container'}).find('a')['href']\n",
    "link"
   ]
  },
  {
   "cell_type": "code",
   "execution_count": 87,
   "id": "1b319a92-804b-4a93-9261-68a0a9f54963",
   "metadata": {},
   "outputs": [
    {
     "name": "stdout",
     "output_type": "stream",
     "text": [
      "page number 2\n",
      "page number 3\n",
      "page number 4\n",
      "page number 5\n",
      "page number 6\n",
      "page number 7\n",
      "page number 8\n",
      "page number 9\n",
      "page number 10\n",
      "page number 11\n",
      "page number 12\n",
      "page number 13\n",
      "page number 14\n",
      "page number 15\n",
      "page number 16\n",
      "page number 17\n",
      "page number 18\n",
      "page number 19\n",
      "page number 20\n",
      "page number 21\n",
      "page number 22\n",
      "page number 23\n",
      "page number 24\n",
      "page number 25\n",
      "page number 26\n",
      "page number 27\n",
      "page number 28\n",
      "page number 29\n",
      "page number 30\n",
      "page number 31\n",
      "page number 32\n",
      "page number 33\n",
      "page number 34\n",
      "page number 35\n",
      "page number 36\n",
      "page number 37\n",
      "page number 38\n",
      "page number 39\n",
      "page number 40\n",
      "page number 41\n",
      "page number 42\n",
      "page number 43\n",
      "page number 44\n",
      "page number 45\n",
      "page number 46\n",
      "page number 47\n",
      "page number 48\n",
      "page number 49\n",
      "page number 50\n",
      "Finished\n"
     ]
    }
   ],
   "source": [
    "page_number = 1\n",
    "Data = []\n",
    "rate = {'One':1,\"Two\":2,'Three':3,'Four':4,'Five':5}\n",
    "while True:\n",
    "    respond = requests.get(f'https://books.toscrape.com/catalogue/page-{page_number}.html')\n",
    "    soup = BeautifulSoup(respond.content,'html.parser')\n",
    "    all_articles = soup.find_all('article',attrs={'class':'product_pod'})\n",
    "\n",
    "\n",
    "    for article in all_articles:\n",
    "        Title = article.find('h3').find('a').get_text('title')\n",
    "        Price =article.find('p',attrs={'class':'price_color'}).get_text().split('£')[1]\n",
    "        rates = article.find('p',attrs={'class':'star-rating'}).get('class')[1]\n",
    "        Rating = rate[rates]\n",
    "        Link = article.find('div',attrs={'class':'image_container'}).find('a')['href']\n",
    "\n",
    "        d = [Title,Price,Rating,Link]\n",
    "        Data.append(d)\n",
    "\n",
    "    if page_number < 50:\n",
    "        page_number += 1\n",
    "    else :\n",
    "        print('Finished')\n",
    "        break\n",
    "    print('page number',page_number)    "
   ]
  },
  {
   "cell_type": "code",
   "execution_count": 89,
   "id": "7602f45e-99a2-486a-9c57-a10c0d456591",
   "metadata": {},
   "outputs": [],
   "source": [
    "with open('books.csv','w',newline='',encoding='UTF-8') as file:\n",
    "    writer = csv.writer(file)\n",
    "    header = ['Title','Price','Rating','Link']\n",
    "    writer.writerow(header)\n",
    "    writer.writerows(Data)"
   ]
  },
  {
   "cell_type": "code",
   "execution_count": 91,
   "id": "4cb0dbda-d5c5-4769-acab-99f208be7c02",
   "metadata": {},
   "outputs": [
    {
     "data": {
      "text/html": [
       "<div>\n",
       "<style scoped>\n",
       "    .dataframe tbody tr th:only-of-type {\n",
       "        vertical-align: middle;\n",
       "    }\n",
       "\n",
       "    .dataframe tbody tr th {\n",
       "        vertical-align: top;\n",
       "    }\n",
       "\n",
       "    .dataframe thead th {\n",
       "        text-align: right;\n",
       "    }\n",
       "</style>\n",
       "<table border=\"1\" class=\"dataframe\">\n",
       "  <thead>\n",
       "    <tr style=\"text-align: right;\">\n",
       "      <th></th>\n",
       "      <th>Title</th>\n",
       "      <th>Price</th>\n",
       "      <th>Rating</th>\n",
       "      <th>Link</th>\n",
       "    </tr>\n",
       "  </thead>\n",
       "  <tbody>\n",
       "    <tr>\n",
       "      <th>0</th>\n",
       "      <td>A Light in the ...</td>\n",
       "      <td>51.77</td>\n",
       "      <td>3</td>\n",
       "      <td>a-light-in-the-attic_1000/index.html</td>\n",
       "    </tr>\n",
       "    <tr>\n",
       "      <th>1</th>\n",
       "      <td>Tipping the Velvet</td>\n",
       "      <td>53.74</td>\n",
       "      <td>1</td>\n",
       "      <td>tipping-the-velvet_999/index.html</td>\n",
       "    </tr>\n",
       "    <tr>\n",
       "      <th>2</th>\n",
       "      <td>Soumission</td>\n",
       "      <td>50.10</td>\n",
       "      <td>1</td>\n",
       "      <td>soumission_998/index.html</td>\n",
       "    </tr>\n",
       "    <tr>\n",
       "      <th>3</th>\n",
       "      <td>Sharp Objects</td>\n",
       "      <td>47.82</td>\n",
       "      <td>4</td>\n",
       "      <td>sharp-objects_997/index.html</td>\n",
       "    </tr>\n",
       "    <tr>\n",
       "      <th>4</th>\n",
       "      <td>Sapiens: A Brief History ...</td>\n",
       "      <td>54.23</td>\n",
       "      <td>5</td>\n",
       "      <td>sapiens-a-brief-history-of-humankind_996/index...</td>\n",
       "    </tr>\n",
       "    <tr>\n",
       "      <th>5</th>\n",
       "      <td>The Requiem Red</td>\n",
       "      <td>22.65</td>\n",
       "      <td>1</td>\n",
       "      <td>the-requiem-red_995/index.html</td>\n",
       "    </tr>\n",
       "    <tr>\n",
       "      <th>6</th>\n",
       "      <td>The Dirty Little Secrets ...</td>\n",
       "      <td>33.34</td>\n",
       "      <td>4</td>\n",
       "      <td>the-dirty-little-secrets-of-getting-your-dream...</td>\n",
       "    </tr>\n",
       "    <tr>\n",
       "      <th>7</th>\n",
       "      <td>The Coming Woman: A ...</td>\n",
       "      <td>17.93</td>\n",
       "      <td>3</td>\n",
       "      <td>the-coming-woman-a-novel-based-on-the-life-of-...</td>\n",
       "    </tr>\n",
       "    <tr>\n",
       "      <th>8</th>\n",
       "      <td>The Boys in the ...</td>\n",
       "      <td>22.60</td>\n",
       "      <td>4</td>\n",
       "      <td>the-boys-in-the-boat-nine-americans-and-their-...</td>\n",
       "    </tr>\n",
       "    <tr>\n",
       "      <th>9</th>\n",
       "      <td>The Black Maria</td>\n",
       "      <td>52.15</td>\n",
       "      <td>1</td>\n",
       "      <td>the-black-maria_991/index.html</td>\n",
       "    </tr>\n",
       "  </tbody>\n",
       "</table>\n",
       "</div>"
      ],
      "text/plain": [
       "                          Title  Price  Rating  \\\n",
       "0            A Light in the ...  51.77       3   \n",
       "1            Tipping the Velvet  53.74       1   \n",
       "2                    Soumission  50.10       1   \n",
       "3                 Sharp Objects  47.82       4   \n",
       "4  Sapiens: A Brief History ...  54.23       5   \n",
       "5               The Requiem Red  22.65       1   \n",
       "6  The Dirty Little Secrets ...  33.34       4   \n",
       "7       The Coming Woman: A ...  17.93       3   \n",
       "8           The Boys in the ...  22.60       4   \n",
       "9               The Black Maria  52.15       1   \n",
       "\n",
       "                                                Link  \n",
       "0               a-light-in-the-attic_1000/index.html  \n",
       "1                  tipping-the-velvet_999/index.html  \n",
       "2                          soumission_998/index.html  \n",
       "3                       sharp-objects_997/index.html  \n",
       "4  sapiens-a-brief-history-of-humankind_996/index...  \n",
       "5                     the-requiem-red_995/index.html  \n",
       "6  the-dirty-little-secrets-of-getting-your-dream...  \n",
       "7  the-coming-woman-a-novel-based-on-the-life-of-...  \n",
       "8  the-boys-in-the-boat-nine-americans-and-their-...  \n",
       "9                     the-black-maria_991/index.html  "
      ]
     },
     "execution_count": 91,
     "metadata": {},
     "output_type": "execute_result"
    }
   ],
   "source": [
    "df = pd.read_csv('books.csv')\n",
    "df.head(10)"
   ]
  },
  {
   "cell_type": "code",
   "execution_count": 85,
   "id": "06ad0a2e-b6df-43b3-b974-fff3e98f4a59",
   "metadata": {},
   "outputs": [
    {
     "data": {
      "text/plain": [
       "1000"
      ]
     },
     "execution_count": 85,
     "metadata": {},
     "output_type": "execute_result"
    }
   ],
   "source": [
    "len(df)"
   ]
  }
 ],
 "metadata": {
  "kernelspec": {
   "display_name": "Python 3 (ipykernel)",
   "language": "python",
   "name": "python3"
  },
  "language_info": {
   "codemirror_mode": {
    "name": "ipython",
    "version": 3
   },
   "file_extension": ".py",
   "mimetype": "text/x-python",
   "name": "python",
   "nbconvert_exporter": "python",
   "pygments_lexer": "ipython3",
   "version": "3.12.4"
  }
 },
 "nbformat": 4,
 "nbformat_minor": 5
}
